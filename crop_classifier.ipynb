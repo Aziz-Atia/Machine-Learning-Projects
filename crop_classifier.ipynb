{
  "nbformat": 4,
  "nbformat_minor": 0,
  "metadata": {
    "colab": {
      "provenance": []
    },
    "kernelspec": {
      "name": "python3",
      "display_name": "Python 3"
    },
    "language_info": {
      "name": "python"
    }
  },
  "cells": [
    {
      "cell_type": "code",
      "source": [
        "from google.colab import drive\n",
        "drive.mount('/content/gdrive')"
      ],
      "metadata": {
        "colab": {
          "base_uri": "https://localhost:8080/"
        },
        "id": "rIo14WwAiW0S",
        "outputId": "34e8a2bf-2ea9-473f-f2e5-1232bea57cdc"
      },
      "execution_count": 3,
      "outputs": [
        {
          "output_type": "stream",
          "name": "stdout",
          "text": [
            "Mounted at /content/gdrive\n"
          ]
        }
      ]
    },
    {
      "cell_type": "code",
      "execution_count": 6,
      "metadata": {
        "colab": {
          "base_uri": "https://localhost:8080/"
        },
        "id": "zO9m3HP7Y8Du",
        "outputId": "4ebc444d-6f32-4407-948a-a02ee43ddce4"
      },
      "outputs": [
        {
          "output_type": "stream",
          "name": "stderr",
          "text": [
            "/usr/local/lib/python3.10/dist-packages/sklearn/linear_model/_logistic.py:469: ConvergenceWarning: lbfgs failed to converge (status=1):\n",
            "STOP: TOTAL NO. of ITERATIONS REACHED LIMIT.\n",
            "\n",
            "Increase the number of iterations (max_iter) or scale the data as shown in:\n",
            "    https://scikit-learn.org/stable/modules/preprocessing.html\n",
            "Please also refer to the documentation for alternative solver options:\n",
            "    https://scikit-learn.org/stable/modules/linear_model.html#logistic-regression\n",
            "  n_iter_i = _check_optimize_result(\n",
            "/usr/local/lib/python3.10/dist-packages/sklearn/linear_model/_logistic.py:469: ConvergenceWarning: lbfgs failed to converge (status=1):\n",
            "STOP: TOTAL NO. of ITERATIONS REACHED LIMIT.\n",
            "\n",
            "Increase the number of iterations (max_iter) or scale the data as shown in:\n",
            "    https://scikit-learn.org/stable/modules/preprocessing.html\n",
            "Please also refer to the documentation for alternative solver options:\n",
            "    https://scikit-learn.org/stable/modules/linear_model.html#logistic-regression\n",
            "  n_iter_i = _check_optimize_result(\n",
            "/usr/local/lib/python3.10/dist-packages/sklearn/linear_model/_logistic.py:469: ConvergenceWarning: lbfgs failed to converge (status=1):\n",
            "STOP: TOTAL NO. of ITERATIONS REACHED LIMIT.\n",
            "\n",
            "Increase the number of iterations (max_iter) or scale the data as shown in:\n",
            "    https://scikit-learn.org/stable/modules/preprocessing.html\n",
            "Please also refer to the documentation for alternative solver options:\n",
            "    https://scikit-learn.org/stable/modules/linear_model.html#logistic-regression\n",
            "  n_iter_i = _check_optimize_result(\n"
          ]
        },
        {
          "output_type": "stream",
          "name": "stdout",
          "text": [
            "{'K': 0.26515151515151514}\n"
          ]
        }
      ],
      "source": [
        "# All required libraries are imported here for you.\n",
        "import pandas as pd\n",
        "from sklearn.linear_model import LogisticRegression\n",
        "from sklearn.model_selection import train_test_split\n",
        "from sklearn import metrics\n",
        "\n",
        "# Load the dataset\n",
        "crops = pd.read_csv(\"/content/gdrive/MyDrive/Colab Notebooks/soil_measures.csv\")\n",
        "crops.head()\n",
        "#print(crops.columns)\n",
        "\n",
        "# Define features and target\n",
        "features = ['N', 'P', 'K', 'ph']\n",
        "target = 'crop'\n",
        "# Test train split\n",
        "X_train, X_test, y_train, y_test = train_test_split(crops[features], crops[target], test_size=0.3, random_state=42)\n",
        "# Evaluating Features\n",
        "best_predictive_feature = {}\n",
        "best_score = 0\n",
        "best_feature = \"\"\n",
        "\n",
        "for feature in features:\n",
        "    # Train model with just one feature\n",
        "    model = LogisticRegression(max_iter=1000)\n",
        "    model.fit(X_train[[feature]], y_train)\n",
        "\n",
        "    # Predict and calculate accuracy\n",
        "    y_pred = model.predict(X_test[[feature]])\n",
        "    score = metrics.accuracy_score(y_test, y_pred)\n",
        "\n",
        "    # Update if the current feature is better\n",
        "    if score > best_score:\n",
        "        best_score = score\n",
        "        best_feature = feature\n",
        "\n",
        "# Store the result in a dictionary\n",
        "best_predictive_feature = {best_feature: best_score}\n",
        "print(best_predictive_feature)\n"
      ]
    }
  ]
}