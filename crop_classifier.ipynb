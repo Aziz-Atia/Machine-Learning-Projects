{
 "cells": [
  {
   "cell_type": "code",
   "execution_count": 3,
   "metadata": {
    "colab": {
     "base_uri": "https://localhost:8080/"
    },
    "id": "rIo14WwAiW0S",
    "outputId": "34e8a2bf-2ea9-473f-f2e5-1232bea57cdc"
   },
   "outputs": [
    {
     "name": "stdout",
     "output_type": "stream",
     "text": [
      "Mounted at /content/gdrive\n"
     ]
    }
   ],
   "source": [
    "from google.colab import drive\n",
    "drive.mount('/content/gdrive')"
   ]
  },
  {
   "cell_type": "code",
   "execution_count": null,
   "metadata": {
    "colab": {
     "base_uri": "https://localhost:8080/"
    },
    "id": "zO9m3HP7Y8Du",
    "outputId": "4ebc444d-6f32-4407-948a-a02ee43ddce4"
   },
   "outputs": [],
   "source": [
    "# All required libraries are imported here for you.\n",
    "import pandas as pd\n",
    "from sklearn.linear_model import LogisticRegression\n",
    "from sklearn.model_selection import train_test_split\n",
    "from sklearn import metrics\n",
    "\n",
    "# Load the dataset\n",
    "crops = pd.read_csv(\"/content/gdrive/MyDrive/Colab Notebooks/soil_measures.csv\")\n",
    "crops.head()\n",
    "#print(crops.columns)\n",
    "\n",
    "# Define features and target\n",
    "features = ['N', 'P', 'K', 'ph']\n",
    "target = 'crop'\n",
    "# Test train split\n",
    "X_train, X_test, y_train, y_test = train_test_split(crops[features], crops[target], test_size=0.3, random_state=42)\n",
    "# Evaluating Features\n",
    "best_predictive_feature = {}\n",
    "best_score = 0\n",
    "best_feature = \"\"\n",
    "\n",
    "for feature in features:\n",
    "    # Train model with just one feature\n",
    "    model = LogisticRegression(max_iter=1000)\n",
    "    model.fit(X_train[[feature]], y_train)\n",
    "\n",
    "    # Predict and calculate accuracy\n",
    "    y_pred = model.predict(X_test[[feature]])\n",
    "    score = metrics.accuracy_score(y_test, y_pred)\n",
    "\n",
    "    # Update if the current feature is better\n",
    "    if score > best_score:\n",
    "        best_score = score\n",
    "        best_feature = feature\n",
    "\n",
    "# Store the result in a dictionary\n",
    "best_predictive_feature = {best_feature: best_score}\n",
    "print(best_predictive_feature)\n"
   ]
  }
 ],
 "metadata": {
  "colab": {
   "provenance": []
  },
  "kernelspec": {
   "display_name": "Python 3",
   "name": "python3"
  },
  "language_info": {
   "name": "python"
  }
 },
 "nbformat": 4,
 "nbformat_minor": 0
}
